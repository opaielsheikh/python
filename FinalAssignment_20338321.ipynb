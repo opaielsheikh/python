{
 "cells": [
  {
   "cell_type": "code",
   "execution_count": 58,
   "metadata": {},
   "outputs": [
    {
     "data": {
      "text/plain": [
       "Text(0, 0.5, 'Cancer_volume')"
      ]
     },
     "execution_count": 58,
     "metadata": {},
     "output_type": "execute_result"
    },
    {
     "data": {
      "image/png": "[encoded data removed]",
      "text/plain": [
       "<Figure size 432x288 with 1 Axes>"
      ]
     },
     "metadata": {
      "needs_background": "light"
     },
     "output_type": "display_data"
    }
   ],
   "source": [
    "#Q4)\n",
    "#Qa) The independant variable is the blood marker and the dependant variable is the cancer volume\n",
    "\n",
    "#Qb)\n",
    "import numpy as np\n",
    "import pandas as pd\n",
    "import matplotlib.pyplot as plt\n",
    "import scipy.stats as stats\n",
    "import statsmodels.formula.api as smf\n",
    "\n",
    "df = pd.read_csv('prostate.csv')\n",
    "plt.scatter(df.Blood_marker, df.Cancer_volume)\n",
    "plt.xlabel('Blood_marker')\n",
    "plt.ylabel('Cancer_volume')"
   ]
  },
  {
   "cell_type": "code",
   "execution_count": 59,
   "metadata": {},
   "outputs": [
    {
     "name": "stdout",
     "output_type": "stream",
     "text": [
      "0.8587\n"
     ]
    }
   ],
   "source": [
    "# its a positive correlation as Blood_marker increases cancer_volume increases.\n",
    "\n",
    "#Qc)\n",
    "n = round(df.corr().Cancer_volume.Blood_marker, 4)\n",
    "print(n)"
   ]
  },
  {
   "cell_type": "code",
   "execution_count": 78,
   "metadata": {},
   "outputs": [
    {
     "name": "stdout",
     "output_type": "stream",
     "text": [
      "                            OLS Regression Results                            \n",
      "==============================================================================\n",
      "Dep. Variable:          Cancer_volume   R-squared:                       0.829\n",
      "Model:                            OLS   Adj. R-squared:                  0.828\n",
      "Method:                 Least Squares   F-statistic:                     826.4\n",
      "Date:                Fri, 23 Apr 2021   Prob (F-statistic):           2.20e-67\n",
      "Time:                        13:11:44   Log-Likelihood:                -103.86\n",
      "No. Observations:                 173   AIC:                             211.7\n",
      "Df Residuals:                     171   BIC:                             218.0\n",
      "Df Model:                           1                                         \n",
      "Covariance Type:            nonrobust                                         \n",
      "================================================================================\n",
      "                   coef    std err          t      P>|t|      [0.025      0.975]\n",
      "--------------------------------------------------------------------------------\n",
      "Intercept       -1.0032      0.104     -9.618      0.000      -1.209      -0.797\n",
      "Blood_marker     1.2099      0.042     28.747      0.000       1.127       1.293\n",
      "==============================================================================\n",
      "Omnibus:                        0.175   Durbin-Watson:                   1.856\n",
      "Prob(Omnibus):                  0.916   Jarque-Bera (JB):                0.293\n",
      "Skew:                           0.064   Prob(JB):                        0.864\n",
      "Kurtosis:                       2.845   Cond. No.                         8.80\n",
      "==============================================================================\n",
      "\n",
      "Notes:\n",
      "[1] Standard Errors assume that the covariance matrix of the errors is correctly specified.\n"
     ]
    }
   ],
   "source": [
    "#This indiactes a strong linear relationship, the relationship is positive.\n",
    "\n",
    "#Qd)\n",
    "model = smf.ols(formula='Cancer_volume~Blood_marker',data=df).fit()\n",
    "print(model.summary())"
   ]
  },
  {
   "cell_type": "code",
   "execution_count": 79,
   "metadata": {},
   "outputs": [
    {
     "name": "stdout",
     "output_type": "stream",
     "text": [
      "3.8189200000000003\n"
     ]
    }
   ],
   "source": [
    "# as we can see the R-squared is 0.737 which means that 73.7% of the variation \n",
    "# in Cancer_volume is explainedby its linear relationship with Blood_marker.\n",
    "\n",
    "#Qe)\n",
    "y = -0.3925 + 0.9794 * 4.3\n",
    "print(y)"
   ]
  },
  {
   "cell_type": "code",
   "execution_count": 80,
   "metadata": {},
   "outputs": [
    {
     "data": {
      "text/plain": [
       "Text(0, 0.5, 'Residuals')"
      ]
     },
     "execution_count": 80,
     "metadata": {},
     "output_type": "execute_result"
    },
    {
     "data": {
      "image/png": "[encoded data removed]",
      "text/plain": [
       "<Figure size 432x288 with 1 Axes>"
      ]
     },
     "metadata": {
      "needs_background": "light"
     },
     "output_type": "display_data"
    },
    {
     "data": {
      "image/png": "[encoded data removed]",
      "text/plain": [
       "<Figure size 432x288 with 1 Axes>"
      ]
     },
     "metadata": {
      "needs_background": "light"
     },
     "output_type": "display_data"
    }
   ],
   "source": [
    "#Qf)\n",
    "residuals = model.resid\n",
    "plt.figure()\n",
    "plt.hist(residuals)\n",
    "plt.axis([-2,3,0,60])\n",
    "plt.xlabel('Residuals')\n",
    "plt.ylabel('Frequency')\n",
    "plt.figure()\n",
    "plt.scatter(df.Blood_marker,residuals)\n",
    "plt.axis([-1.0,6,-6,6])\n",
    "plt.xlabel('Blood marker')\n",
    "plt.ylabel('Residuals')"
   ]
  },
  {
   "cell_type": "code",
   "execution_count": 71,
   "metadata": {},
   "outputs": [],
   "source": [
    "# In lectures i learnt that in order for the model assumptions to be met, the residuals must be normally \n",
    "# distributed with a mean zero as we can see clearly from the graphs it haves a mean of zero and their spread \n",
    "# must not vary with X as it does not vary with blood marker which means its met.\n",
    "\n",
    "\n",
    "#Qg)\n",
    "y = 0\n",
    "for x in df.Blood_marker:\n",
    "    if x < 1:\n",
    "        df = df.drop(labels = y, axis = 0)\n",
    "    y+=1\n",
    "    "
   ]
  },
  {
   "cell_type": "code",
   "execution_count": 73,
   "metadata": {},
   "outputs": [
    {
     "data": {
      "text/plain": [
       "Text(0, 0.5, 'cancer volume')"
      ]
     },
     "execution_count": 73,
     "metadata": {},
     "output_type": "execute_result"
    },
    {
     "data": {
      "image/png": "[encoded data removed]",
      "text/plain": [
       "<Figure size 432x288 with 1 Axes>"
      ]
     },
     "metadata": {
      "needs_background": "light"
     },
     "output_type": "display_data"
    }
   ],
   "source": [
    "xrange = np.linspace(0,5,10)\n",
    "plt.plot(xrange,model.params.Intercept+model.params.Blood_marker*xrange)\n",
    "plt.scatter(df.Blood_marker,df.Cancer_volume)\n",
    "plt.xlabel(\"Blood marker\")\n",
    "plt.ylabel('cancer volume')"
   ]
  },
  {
   "cell_type": "code",
   "execution_count": 81,
   "metadata": {},
   "outputs": [],
   "source": [
    "#yes it imporve the model fit as the correlation coefficient gets closer to 1"
   ]
  },
  {
   "cell_type": "code",
   "execution_count": null,
   "metadata": {},
   "outputs": [],
   "source": []
  }
 ],
 "metadata": {
  "kernelspec": {
   "display_name": "Python 3",
   "language": "python",
   "name": "python3"
  },
  "language_info": {
   "codemirror_mode": {
    "name": "ipython",
    "version": 3
   },
   "file_extension": ".py",
   "mimetype": "text/x-python",
   "name": "python",
   "nbconvert_exporter": "python",
   "pygments_lexer": "ipython3",
   "version": "3.8.5"
  }
 },
 "nbformat": 4,
 "nbformat_minor": 4
}
